{
 "cells": [
  {
   "cell_type": "code",
   "execution_count": 1,
   "metadata": {},
   "outputs": [],
   "source": [
    "import datetime"
   ]
  },
  {
   "cell_type": "code",
   "execution_count": 5,
   "metadata": {},
   "outputs": [
    {
     "data": {
      "text/plain": [
       "'20011231022451'"
      ]
     },
     "execution_count": 5,
     "metadata": {},
     "output_type": "execute_result"
    }
   ],
   "source": [
    "date = '31 Dec 2001 02:24:51'\n",
    "d = datetime.datetime.strptime(date, '%d %b %Y %H:%M:%S') \n",
    "d.strftime('%Y%m%d%H%M%S')"
   ]
  },
  {
   "cell_type": "code",
   "execution_count": 6,
   "metadata": {},
   "outputs": [
    {
     "data": {
      "text/plain": [
       "'10 Dec 2001 15:31:51'"
      ]
     },
     "execution_count": 6,
     "metadata": {},
     "output_type": "execute_result"
    }
   ],
   "source": [
    "date = '10 Dec 2001 15:31:51 -0800 (PST)'\n",
    "date[:-12]"
   ]
  },
  {
   "cell_type": "code",
   "execution_count": 37,
   "metadata": {},
   "outputs": [
    {
     "data": {
      "text/plain": [
       "True"
      ]
     },
     "execution_count": 37,
     "metadata": {},
     "output_type": "execute_result"
    }
   ],
   "source": [
    "'hel' in 'hello'"
   ]
  },
  {
   "cell_type": "code",
   "execution_count": 67,
   "metadata": {},
   "outputs": [],
   "source": [
    "def parser_aux(file):\n",
    "    result = {}\n",
    "\n",
    "    with open(file, 'r') as f:\n",
    "        lines = f.read().splitlines()\n",
    "    \n",
    "    line_num = 0\n",
    "    for line in lines:\n",
    "\n",
    "        # only write to result if it's first encountered\n",
    "        if (\"Date:\" in line) and ('date' not in result):\n",
    "            result['date'] = line_num # date\n",
    "\n",
    "        if (\"From:\" in line) and ('sender' not in result):\n",
    "            result['sender'] = line_num # sender email\n",
    "\n",
    "        if (\"To:\" in line) and ('sendee' not in result):\n",
    "            result['sendee'] = line_num # sendee email(s)\n",
    "        # subject line number is tracked because sometimes we have multiple lines of sendees\n",
    "        if (\"Subject:\" in line) and ('sendee_end' not in result):\n",
    "            result['sendee_end'] = line_num\n",
    "        \n",
    "        # email body starts the next line of X-FileName\n",
    "        if (\"X-FileName:\" in line) and ('body' not in result):\n",
    "            result['body'] = line_num+1 # email body\n",
    "\n",
    "        line_num += 1\n",
    "    return result"
   ]
  },
  {
   "cell_type": "code",
   "execution_count": 66,
   "metadata": {},
   "outputs": [],
   "source": [
    "def email_parser(file):\n",
    "    line_num = parser_aux(file)\n",
    "    result = {}\n",
    "\n",
    "    with open(file, 'r') as f:\n",
    "        lines = f.read().splitlines()\n",
    "\n",
    "    date = lines[line_num['date']].split(',')[1].strip()[:-12]\n",
    "    result['date'] = date_formatter(date) # date\n",
    "\n",
    "    result['sender'] = lines[line_num['sender']].split(':')[1].strip() # sender email\n",
    "    \n",
    "    if line_num['sendee']<line_num['sendee_end']: # sometimes To: field is missing\n",
    "        sendee = lines[line_num['sendee']:line_num['sendee_end']] # sendee email(s)\n",
    "        sendee[0] = sendee[0].split(':')[1]\n",
    "        result['sendee'] = \"\".join(sendee)\n",
    "    else:\n",
    "        result['sendee'] = \"\"\n",
    "    result['body'] = \"\\n\".join(lines[line_num['body']:]) # email body\n",
    "\n",
    "    return result"
   ]
  },
  {
   "cell_type": "code",
   "execution_count": 45,
   "metadata": {},
   "outputs": [],
   "source": [
    "def date_formatter(date):\n",
    "    d = datetime.datetime.strptime(date, '%d %b %Y %H:%M:%S') # e.g. 31 Dec 2001 02:24:51\n",
    "    return d.strftime('%Y%m%d%H%M%S') # e.g. 20011231022451"
   ]
  },
  {
   "cell_type": "code",
   "execution_count": 68,
   "metadata": {},
   "outputs": [
    {
     "data": {
      "text/plain": [
       "{'date': 1, 'sender': 2, 'sendee_end': 3, 'sendee': 10, 'body': 16}"
      ]
     },
     "execution_count": 68,
     "metadata": {},
     "output_type": "execute_result"
    }
   ],
   "source": [
    "parser_aux(\"enron/allen-p/2.\")"
   ]
  },
  {
   "cell_type": "code",
   "execution_count": 69,
   "metadata": {},
   "outputs": [
    {
     "data": {
      "text/plain": [
       "{'date': '20020206193734',\n",
       " 'sender': 'pete.davis@enron.com',\n",
       " 'sendee': ' pete.davis@enron.com',\n",
       " 'body': \"\\n\\n\\nStart Date: 2/6/02; HourAhead hour: 22;  No ancillary schedules awarded.  No variances detected. \\n\\n    LOG MESSAGES:\\n\\nPARSING FILE -->> O:\\\\Portland\\\\WestDesk\\\\California Scheduling\\\\ISO Final Schedules\\\\2002020622.txt\\n!!!General SQL error.\\nCouldn't update; currently locked by user 'Admin' on machine 'NAHOU-TRDTS5'.\\nTable\\n\\n---- Energy Import/Export Schedule ----\\n*** Final schedule not found for preferred schedule.\\n     Details:\\n\\n  TRANS_TYPE: FINAL\\n  SC_ID: ECTstNW\\n  MKT_TYPE: 2\\n  TRANS_DATE: 2/6/02\\n  TIE_POINT: MALIN_5_RNDMTN\\n  INTERCHG_ID: ENRJ_CISO_3000\\n  ENGY_TYPE: FIRM\\n\"}"
      ]
     },
     "execution_count": 69,
     "metadata": {},
     "output_type": "execute_result"
    }
   ],
   "source": [
    "email_parser(\"enron/meyers-a/2.\")"
   ]
  },
  {
   "cell_type": "code",
   "execution_count": 70,
   "metadata": {},
   "outputs": [
    {
     "data": {
      "text/plain": [
       "{'date': '20011210145955',\n",
       " 'sender': 'brad.jones@enron.com',\n",
       " 'sendee': '',\n",
       " 'body': '\\nAttached is the information you have requested.\\n\\nThanks,\\nBrad Jones\\n\\n '}"
      ]
     },
     "execution_count": 70,
     "metadata": {},
     "output_type": "execute_result"
    }
   ],
   "source": [
    "email_parser(\"enron/allen-p/2.\")"
   ]
  },
  {
   "cell_type": "code",
   "execution_count": 20,
   "metadata": {},
   "outputs": [
    {
     "data": {
      "text/plain": [
       "['/home/public/enron/allen-p/1.',\n",
       " '/home/public/enron/allen-p/2.',\n",
       " '/home/public/enron/allen-p/3.',\n",
       " '/home/public/enron/allen-p/4.',\n",
       " '/home/public/enron/allen-p/5.',\n",
       " '/home/public/enron/allen-p/6.',\n",
       " '/home/public/enron/allen-p/7.',\n",
       " '/home/public/enron/allen-p/8.',\n",
       " '/home/public/enron/allen-p/9.',\n",
       " '/home/public/enron/allen-p/10.',\n",
       " '/home/public/enron/allen-p/11.',\n",
       " '/home/public/enron/allen-p/12.',\n",
       " '/home/public/enron/allen-p/13.',\n",
       " '/home/public/enron/allen-p/14.',\n",
       " '/home/public/enron/allen-p/15.',\n",
       " '/home/public/enron/allen-p/16.',\n",
       " '/home/public/enron/allen-p/17.',\n",
       " '/home/public/enron/allen-p/18.',\n",
       " '/home/public/enron/allen-p/19.',\n",
       " '/home/public/enron/allen-p/20.',\n",
       " '/home/public/enron/allen-p/21.',\n",
       " '/home/public/enron/allen-p/22.',\n",
       " '/home/public/enron/allen-p/23.',\n",
       " '/home/public/enron/allen-p/24.',\n",
       " '/home/public/enron/allen-p/25.',\n",
       " '/home/public/enron/allen-p/26.',\n",
       " '/home/public/enron/allen-p/27.',\n",
       " '/home/public/enron/allen-p/28.',\n",
       " '/home/public/enron/allen-p/29.',\n",
       " '/home/public/enron/allen-p/30.',\n",
       " '/home/public/enron/allen-p/31.',\n",
       " '/home/public/enron/allen-p/32.',\n",
       " '/home/public/enron/allen-p/33.',\n",
       " '/home/public/enron/allen-p/34.',\n",
       " '/home/public/enron/allen-p/35.',\n",
       " '/home/public/enron/allen-p/36.',\n",
       " '/home/public/enron/allen-p/37.',\n",
       " '/home/public/enron/allen-p/38.',\n",
       " '/home/public/enron/allen-p/39.',\n",
       " '/home/public/enron/allen-p/40.',\n",
       " '/home/public/enron/allen-p/41.',\n",
       " '/home/public/enron/allen-p/42.',\n",
       " '/home/public/enron/allen-p/43.',\n",
       " '/home/public/enron/allen-p/44.',\n",
       " '/home/public/enron/allen-p/45.',\n",
       " '/home/public/enron/allen-p/62.',\n",
       " '/home/public/enron/allen-p/63.',\n",
       " '/home/public/enron/allen-p/64.',\n",
       " '/home/public/enron/allen-p/65.',\n",
       " '/home/public/enron/allen-p/66.',\n",
       " '/home/public/enron/allen-p/67.',\n",
       " '/home/public/enron/allen-p/68.',\n",
       " '/home/public/enron/allen-p/69.',\n",
       " '/home/public/enron/allen-p/70.',\n",
       " '/home/public/enron/allen-p/71.',\n",
       " '/home/public/enron/allen-p/72.',\n",
       " '/home/public/enron/allen-p/73.',\n",
       " '/home/public/enron/allen-p/74.',\n",
       " '/home/public/enron/allen-p/75.',\n",
       " '/home/public/enron/allen-p/76.',\n",
       " '/home/public/enron/allen-p/77.',\n",
       " '/home/public/enron/allen-p/78.',\n",
       " '/home/public/enron/allen-p/79.',\n",
       " '/home/public/enron/allen-p/83.',\n",
       " '/home/public/enron/allen-p/84.',\n",
       " '/home/public/enron/allen-p/85.',\n",
       " '/home/public/enron/allen-p/86.',\n",
       " '/home/public/enron/allen-p/87.']"
      ]
     },
     "execution_count": 20,
     "metadata": {},
     "output_type": "execute_result"
    }
   ],
   "source": [
    "path = '/home/public/enron/'\n",
    "files_ap = list(range(1,46))+list(range(62,80))+list(range(83,88))\n",
    "files_ap = [path+'allen-p/'+str(x)+'.' for x in files_ap]\n",
    "files_ap"
   ]
  },
  {
   "cell_type": "code",
   "execution_count": 26,
   "metadata": {},
   "outputs": [
    {
     "data": {
      "text/plain": [
       "b'hello'"
      ]
     },
     "execution_count": 26,
     "metadata": {},
     "output_type": "execute_result"
    }
   ],
   "source": [
    "var = 'hello'\n",
    "bytes(var, encoding='utf-8')"
   ]
  }
 ],
 "metadata": {
  "kernelspec": {
   "display_name": "Python 3",
   "language": "python",
   "name": "python3"
  },
  "language_info": {
   "codemirror_mode": {
    "name": "ipython",
    "version": 3
   },
   "file_extension": ".py",
   "mimetype": "text/x-python",
   "name": "python",
   "nbconvert_exporter": "python",
   "pygments_lexer": "ipython3",
   "version": "3.8.5"
  }
 },
 "nbformat": 4,
 "nbformat_minor": 4
}
